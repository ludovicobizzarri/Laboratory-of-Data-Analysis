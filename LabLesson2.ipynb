{
 "cells": [
  {
   "cell_type": "code",
   "execution_count": 1,
   "metadata": {},
   "outputs": [],
   "source": [
    "import numpy as np\n",
    "import scipy.stats\n",
    "import pylab as plt\n",
    "import math\n",
    "from scipy.stats import norm\n",
    "import astropy\n",
    "from astropy.modeling import models\n",
    "from astropy import units as u\n",
    "from astropy.modeling.models import BlackBody\n",
    "from astropy.visualization import quantity_support"
   ]
  },
  {
   "cell_type": "code",
   "execution_count": 12,
   "metadata": {},
   "outputs": [],
   "source": [
    "M_sun = 2*10**33\n",
    "\n",
    "def Properties(M):\n",
    "    L_sun = const.L_sun.cgs.value\n",
    "    R_sun = const.R_sun.cgs.value\n",
    "    sigma = const.sigma_sb.cgs.value\n",
    "    \n",
    "    Temp = (M)**(0.7)*u.K\n",
    "    \n",
    "    numb_stars = M**(-2.35)\n",
    "    S = 4*(math.pi)*M**(6/7)\n",
    "    scale_factor = numb_stars*S\n",
    "    \n",
    "    return Temp, scale_factor\n",
    "\n",
    "\n",
    "Mass = np.arange(0.1, 100, step=1)\n",
    "\n"
   ]
  },
  {
   "cell_type": "code",
   "execution_count": null,
   "metadata": {},
   "outputs": [],
   "source": [
    "for i in range(0, len(Mass)):\n",
    "    bb = models.BlackBody(temperature=Temp[i]*u.K, )#u.erg/(u.cm**2 * u.AA * u.s * u.sr)\n",
    "\n",
    "BB_emission_1_star\n",
    "wav = np.arange(3500, 7000) * u.AA\n",
    "flux = BB_emission_1_star(wav)\n",
    "\n",
    "Temp"
   ]
  },
  {
   "cell_type": "code",
   "execution_count": null,
   "metadata": {},
   "outputs": [],
   "source": []
  }
 ],
 "metadata": {
  "kernelspec": {
   "display_name": "Python 3",
   "language": "python",
   "name": "python3"
  },
  "language_info": {
   "codemirror_mode": {
    "name": "ipython",
    "version": 3
   },
   "file_extension": ".py",
   "mimetype": "text/x-python",
   "name": "python",
   "nbconvert_exporter": "python",
   "pygments_lexer": "ipython3",
   "version": "3.8.5"
  }
 },
 "nbformat": 4,
 "nbformat_minor": 4
}
