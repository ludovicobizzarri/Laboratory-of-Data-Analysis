{
 "cells": [
  {
   "cell_type": "markdown",
   "metadata": {},
   "source": [
    "# Analysis of the continuum spectra emitted by 3 different galaxies"
   ]
  },
  {
   "cell_type": "markdown",
   "metadata": {},
   "source": [
    "### Assumptions: \n",
    "1) The continuum part of the spectra is due only to stars.\n",
    "\n",
    "2) The emission spectra of stars is a black body spectra.\n",
    "\n",
    "3) The initial mass function is given by the following relation: $I.M.F. = \\frac{dN}{dM} \\propto M$\n",
    "\n",
    "4) The main process of the star is the p-p chain\n",
    "\n",
    "5) All the star are born at the same time"
   ]
  },
  {
   "cell_type": "code",
   "execution_count": 6,
   "metadata": {},
   "outputs": [],
   "source": [
    "import numpy as np\n",
    "from tqdm.notebook import tqdm\n",
    "import astropy.constants as const\n",
    "import pylab as plt\n",
    "from astropy.modeling import models\n",
    "from astropy import units as u\n",
    "from astropy.visualization import quantity_support"
   ]
  },
  {
   "cell_type": "code",
   "execution_count": 4,
   "metadata": {},
   "outputs": [],
   "source": [
    "import numpy as np\n",
    "import scipy.stats\n",
    "import pylab as plt\n",
    "import math\n",
    "from scipy.stats import norm\n",
    "import astropy\n",
    "from astropy.modeling import models\n",
    "from astropy import units as u\n",
    "from astropy.modeling.models import BlackBody\n",
    "from astropy.visualization import quantity_support"
   ]
  },
  {
   "cell_type": "code",
   "execution_count": 48,
   "metadata": {},
   "outputs": [
    {
     "data": {
      "text/plain": [
       "'wav = np.arange(3500, 7000) * u.AA\\nflux = BB_emission_1_star(wav)'"
      ]
     },
     "execution_count": 48,
     "metadata": {},
     "output_type": "execute_result"
    }
   ],
   "source": [
    "M_sun = const.M_sun.cgs.value\n",
    "\n",
    "def Properties(M):\n",
    "    L_sun = const.L_sun.cgs.value\n",
    "    R_sun = const.R_sun.cgs.value\n",
    "    sigma = const.sigma_sb.cgs.value\n",
    "    \n",
    "    R_M_relation = 3/7\n",
    "    R = R_sun*((M/M_sun)**(R_M_relation))\n",
    "    \n",
    "    L_M_relation = 3.5\n",
    "    L = L_sun*((M/M_sun)**(L_M_relation))*(u.erg/u.s)\n",
    "    \n",
    "    Temp = (L / (4*(math.pi)*(R**2*(u.cm**2))*sigma*(u.erg/((u.K**4)*(u.cm**2)*u.s))))**(1/4)\n",
    "    \n",
    "    numb_stars = M**(-2.35)\n",
    "    S = 4*(math.pi)*M**(6/7)\n",
    "    scale_factor = numb_stars*S\n",
    "    \n",
    "    \n",
    "    return Temp, scale_factor\n",
    "\n",
    "Mass = np.arange(0.1, 100, step=1) #choosing step=1 we have dM=const=1 in I.M.F\n",
    "Mass = Mass*M_sun \n",
    "\n",
    "Temp, scale_factor = Properties(Mass)\n",
    "\n",
    "bb =  np.sum([models.BlackBody(temperature=Temperature, scale=S_F *(u.erg/(u.cm**2 * u.AA * u.s * u.sr))) for Temperature, S_F in zip(Temp, scale_factor)])\n",
    "\n",
    "\"\"\"wav = np.arange(3500, 7000) * u.AA\n",
    "flux = BB_emission_1_star(wav)\"\"\""
   ]
  },
  {
   "cell_type": "code",
   "execution_count": null,
   "metadata": {},
   "outputs": [],
   "source": [
    "typical_timescale = 10**10 #yr (for a star of 1 solar mass). From the typical timescale we can get the maximum mass of a star\n",
    "initial_time = 10**7\n",
    "max_mass = 1/(initial_time*typical_timescale**(1/2.5))*M_sun\n",
    "\n",
    "max_mass"
   ]
  }
 ],
 "metadata": {
  "kernelspec": {
   "display_name": "Python 3",
   "language": "python",
   "name": "python3"
  },
  "language_info": {
   "codemirror_mode": {
    "name": "ipython",
    "version": 3
   },
   "file_extension": ".py",
   "mimetype": "text/x-python",
   "name": "python",
   "nbconvert_exporter": "python",
   "pygments_lexer": "ipython3",
   "version": "3.8.5"
  }
 },
 "nbformat": 4,
 "nbformat_minor": 4
}
